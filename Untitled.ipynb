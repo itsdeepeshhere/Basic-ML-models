{
 "cells": [
  {
   "cell_type": "code",
   "execution_count": 1,
   "id": "3df01136",
   "metadata": {},
   "outputs": [],
   "source": [
    "import pandas as pd\n",
    "from sklearn.model_selection import train_test_split\n",
    "from sklearn.linear_model import LinearRegression\n",
    "from sklearn.tree import DecisionTreeRegressor\n",
    "from sklearn.ensemble import RandomForestRegressor\n",
    "from sklearn.neural_network import MLPRegressor\n",
    "from sklearn.preprocessing import StandardScaler\n",
    "from sklearn.metrics import mean_squared_error\n"
   ]
  },
  {
   "cell_type": "code",
   "execution_count": 2,
   "id": "fae50437",
   "metadata": {},
   "outputs": [],
   "source": [
    "df = pd.read_csv(\"scr-dataset.csv\")"
   ]
  },
  {
   "cell_type": "code",
   "execution_count": 3,
   "id": "770af444",
   "metadata": {},
   "outputs": [
    {
     "name": "stdout",
     "output_type": "stream",
     "text": [
      "Linear Regression:\n",
      "MSE: 0.7868963682325736\n",
      "\n",
      "Decision Tree:\n",
      "MSE: 0.032676409327655725\n",
      "\n",
      "Random Forest:\n",
      "MSE: 0.014423268831237122\n",
      "\n",
      "Neural Network:\n",
      "MSE: 0.7808185063642039\n",
      "\n",
      "Linear Regression - Prediction at x = 50: -0.0716215778658325\n",
      "Decision Tree - Prediction at x = 50: 1.147230623710428\n",
      "Random Forest - Prediction at x = 50: 0.897559363260872\n",
      "Neural Network - Prediction at x = 50: -0.1214627673489877\n"
     ]
    },
    {
     "name": "stderr",
     "output_type": "stream",
     "text": [
      "C:\\Users\\Delhivery\\anaconda3\\Lib\\site-packages\\sklearn\\base.py:464: UserWarning: X does not have valid feature names, but LinearRegression was fitted with feature names\n",
      "  warnings.warn(\n",
      "C:\\Users\\Delhivery\\anaconda3\\Lib\\site-packages\\sklearn\\base.py:464: UserWarning: X does not have valid feature names, but DecisionTreeRegressor was fitted with feature names\n",
      "  warnings.warn(\n",
      "C:\\Users\\Delhivery\\anaconda3\\Lib\\site-packages\\sklearn\\base.py:464: UserWarning: X does not have valid feature names, but RandomForestRegressor was fitted with feature names\n",
      "  warnings.warn(\n",
      "C:\\Users\\Delhivery\\anaconda3\\Lib\\site-packages\\sklearn\\base.py:464: UserWarning: X does not have valid feature names, but StandardScaler was fitted with feature names\n",
      "  warnings.warn(\n"
     ]
    }
   ],
   "source": [
    "# Remove outliers \n",
    "q1 = df['x'].quantile(0.01)\n",
    "q3 = df['x'].quantile(0.99)\n",
    "df = df[(df['x'] > q1) & (df['x'] < q3)]\n",
    "\n",
    "X = df[['x']]\n",
    "y = df['y']\n",
    "\n",
    "\n",
    "X_train, X_test, y_train, y_test = train_test_split(X, y, test_size=0.2, random_state=42)\n",
    "\n",
    "# Linear Regression\n",
    "print(\"Linear Regression:\")\n",
    "linear_regressor = LinearRegression()\n",
    "linear_regressor.fit(X_train, y_train)\n",
    "y_pred_linear = linear_regressor.predict(X_test)\n",
    "mse_linear = mean_squared_error(y_test, y_pred_linear)\n",
    "print(\"MSE:\", mse_linear)\n",
    "\n",
    "# Decision Tree\n",
    "print(\"\\nDecision Tree:\")\n",
    "decision_tree = DecisionTreeRegressor(random_state=42)\n",
    "decision_tree.fit(X_train, y_train)\n",
    "y_pred_dt = decision_tree.predict(X_test)\n",
    "mse_dt = mean_squared_error(y_test, y_pred_dt)\n",
    "print(\"MSE:\", mse_dt)\n",
    "\n",
    "# Random Forest\n",
    "print(\"\\nRandom Forest:\")\n",
    "random_forest = RandomForestRegressor(random_state=42)\n",
    "random_forest.fit(X_train, y_train)\n",
    "y_pred_rf = random_forest.predict(X_test)\n",
    "mse_rf = mean_squared_error(y_test, y_pred_rf)\n",
    "print(\"MSE:\", mse_rf)\n",
    "\n",
    "# Neural Network\n",
    "print(\"\\nNeural Network:\")\n",
    "# Standardize features for Neural Network (assuming a simple scaling here)\n",
    "scaler = StandardScaler()\n",
    "X_train_scaled = scaler.fit_transform(X_train)\n",
    "X_test_scaled = scaler.transform(X_test)\n",
    "\n",
    "neural_network = MLPRegressor(random_state=42)\n",
    "neural_network.fit(X_train_scaled, y_train)\n",
    "y_pred_nn = neural_network.predict(X_test_scaled)\n",
    "mse_nn = mean_squared_error(y_test, y_pred_nn)\n",
    "print(\"MSE:\", mse_nn)\n",
    "\n",
    "# Predicting the value of y at x = 50 for each model\n",
    "x_new = [[50]]\n",
    "\n",
    "# Linear Regression\n",
    "y_pred_linear_new = linear_regressor.predict(x_new)\n",
    "print(\"\\nLinear Regression - Prediction at x = 50:\", y_pred_linear_new[0])\n",
    "\n",
    "# Decision Tree\n",
    "y_pred_dt_new = decision_tree.predict(x_new)\n",
    "print(\"Decision Tree - Prediction at x = 50:\", y_pred_dt_new[0])\n",
    "\n",
    "# Random Forest\n",
    "y_pred_rf_new = random_forest.predict(x_new)\n",
    "print(\"Random Forest - Prediction at x = 50:\", y_pred_rf_new[0])\n",
    "\n",
    "# Neural Network\n",
    "x_new_scaled = scaler.transform(x_new)\n",
    "y_pred_nn_new = neural_network.predict(x_new_scaled)\n",
    "print(\"Neural Network - Prediction at x = 50:\", y_pred_nn_new[0])\n"
   ]
  },
  {
   "cell_type": "code",
   "execution_count": null,
   "id": "26231d0d",
   "metadata": {},
   "outputs": [],
   "source": []
  }
 ],
 "metadata": {
  "kernelspec": {
   "display_name": "Python 3 (ipykernel)",
   "language": "python",
   "name": "python3"
  },
  "language_info": {
   "codemirror_mode": {
    "name": "ipython",
    "version": 3
   },
   "file_extension": ".py",
   "mimetype": "text/x-python",
   "name": "python",
   "nbconvert_exporter": "python",
   "pygments_lexer": "ipython3",
   "version": "3.11.5"
  }
 },
 "nbformat": 4,
 "nbformat_minor": 5
}
